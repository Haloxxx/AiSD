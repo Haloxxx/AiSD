{
 "cells": [
  {
   "cell_type": "code",
   "execution_count": 51,
   "metadata": {},
   "outputs": [
    {
     "data": {
      "text/plain": [
       "' \\nroot = drzewo(3)\\nroot.wprow(6)\\nroot.wprow(2)\\nroot.wprow(4)\\nroot.wprow(3)\\nroot.wprow(5)\\nroot.wprow(1)\\n\\n\\n\\n\\n#root.DrukujDrzewoBin()\\nroot.szukanie(-5)\\nprint(\"hej\")\\n'"
      ]
     },
     "execution_count": 51,
     "metadata": {},
     "output_type": "execute_result"
    }
   ],
   "source": [
    "class drzewo:\n",
    "    \n",
    "    def __init__(ddz, data):\n",
    "        \n",
    "        ddz.left = None\n",
    "        ddz.right = None\n",
    "        \n",
    "        ddz.data = data\n",
    "        \n",
    "        \n",
    "    def wprow(ddz, data):\n",
    "\n",
    "        if ddz.data:\n",
    "            if data < ddz.data:\n",
    "                if ddz.left is None:\n",
    "                    ddz.left = drzewo(data)\n",
    "                else:\n",
    "                    ddz.left.wprow(data)\n",
    "            elif data > ddz.data:\n",
    "                if ddz.right is None:\n",
    "                    ddz.right = drzewo(data)\n",
    "                else:\n",
    "                    ddz.right.wprow(data)\n",
    "        else:\n",
    "            ddz.data = data    \n",
    "    \n",
    "        \n",
    "        \n",
    "    def DrukujDrzewoBin(ddz,spac = 1):\n",
    "       \n",
    "        \n",
    "    \n",
    "        if ddz.left:\n",
    "            ddz.left.DrukujDrzewoBin(1)\n",
    "        \n",
    "        \n",
    "        wezel = \"\"\n",
    "        for i in range(spac): wezel=wezel+\"...\"\n",
    "        wezel=wezel+str(ddz.data)\n",
    "        print(wezel)\n",
    "        #print(ddz.data)\n",
    "        \n",
    "        \n",
    "        \n",
    "        \n",
    "        if ddz.right:\n",
    "            ddz.right.DrukujDrzewoBin(3)\n",
    "    \n",
    "    \"\"\" \n",
    "    \n",
    "    def szukanie(ddz, x):\n",
    "        if ddz.left:\n",
    "            ddz.left.szukanie(x)\n",
    "        \n",
    "        if ddz.data == x: print(\"Jest!\",ddz.data)\n",
    "            \n",
    "        if ddz.right:\n",
    "            ddz.right.szukanie(x)\n",
    "    \"\"\"\n",
    "    \n",
    "    \n",
    "    def szukanie(ddz, x):\n",
    "        jest = False\n",
    "        \n",
    "        while (ddz != None) and (jest == False):\n",
    "            if x < ddz.data:\n",
    "                #ddz.left.szukanie(x)\n",
    "                ddz = ddz.left\n",
    "            else:\n",
    "                if x > ddz.data:\n",
    "                    #ddz.right.szukanie(x)\n",
    "                    ddz = ddz.right\n",
    "                else:\n",
    "                    jest = True\n",
    "                    #print(ddz.data)\n",
    "                       \n",
    "    \n",
    "\"\"\" \n",
    "root = drzewo(3)\n",
    "root.wprow(6)\n",
    "root.wprow(2)\n",
    "root.wprow(4)\n",
    "root.wprow(3)\n",
    "root.wprow(5)\n",
    "root.wprow(1)\n",
    "\n",
    "\n",
    "\n",
    "\n",
    "#root.DrukujDrzewoBin()\n",
    "root.szukanie(-5)\n",
    "print(\"hej\")\n",
    "\"\"\""
   ]
  },
  {
   "cell_type": "code",
   "execution_count": 65,
   "metadata": {},
   "outputs": [
    {
     "name": "stdout",
     "output_type": "stream",
     "text": [
      "już\n"
     ]
    }
   ],
   "source": [
    "import random\n",
    "\n",
    "import timeit\n",
    "import time\n",
    "import matplotlib.pyplot as plt\n",
    "\n",
    "\n",
    "dane = []\n",
    "wyniki = []\n",
    "\n",
    "\n",
    "\n",
    "\n",
    "\n",
    "for r in range(1000):\n",
    "    \n",
    "    ile = random.randrange(0,100,1)\n",
    "    \n",
    "    czasy = 0\n",
    "    \n",
    "    for y in range(1000):\n",
    "    \n",
    "        \n",
    "    \n",
    "        x = random.randrange(0, 100, 1)\n",
    "        root = drzewo(x)\n",
    "    \n",
    "    \n",
    "        for o in range(ile):\n",
    "            t = random.randrange(0, 100, 1)\n",
    "            root.wprow(t)\n",
    "        \n",
    "        k = random.randrange(0, 100, 1)\n",
    "\n",
    "\n",
    "        start = time.time()\n",
    "        root.szukanie(k)\n",
    "        czas = time.time() - start\n",
    "        czasy+=czas\n",
    "        \n",
    "    \n",
    "    \n",
    "    \n",
    "    \n",
    "    dane.append(ile)\n",
    "    wyniki.append(czasy/100)\n",
    "\n",
    "print(\"już\")"
   ]
  },
  {
   "cell_type": "code",
   "execution_count": 66,
   "metadata": {},
   "outputs": [
    {
     "data": {
      "text/plain": [
       "[<matplotlib.lines.Line2D at 0x11be0aa20>]"
      ]
     },
     "execution_count": 66,
     "metadata": {},
     "output_type": "execute_result"
    },
    {
     "data": {
      "image/png": "[encoded data removed]",
      "text/plain": [
       "<Figure size 432x288 with 1 Axes>"
      ]
     },
     "metadata": {
      "needs_background": "light"
     },
     "output_type": "display_data"
    }
   ],
   "source": [
    "plt.plot(dane, wyniki,'ro')"
   ]
  },
  {
   "cell_type": "code",
   "execution_count": 5,
   "metadata": {},
   "outputs": [
    {
     "ename": "NameError",
     "evalue": "name 'dane1' is not defined",
     "output_type": "error",
     "traceback": [
      "\u001b[0;31m---------------------------------------------------------------------------\u001b[0m",
      "\u001b[0;31mNameError\u001b[0m                                 Traceback (most recent call last)",
      "\u001b[0;32m<ipython-input-5-aaec05d37f79>\u001b[0m in \u001b[0;36m<module>\u001b[0;34m()\u001b[0m\n\u001b[0;32m----> 1\u001b[0;31m \u001b[0mplt\u001b[0m\u001b[0;34m.\u001b[0m\u001b[0mplot\u001b[0m\u001b[0;34m(\u001b[0m\u001b[0mdane1\u001b[0m\u001b[0;34m,\u001b[0m \u001b[0mwyniki1\u001b[0m\u001b[0;34m,\u001b[0m\u001b[0;34m'ro'\u001b[0m\u001b[0;34m)\u001b[0m\u001b[0;34m\u001b[0m\u001b[0m\n\u001b[0m",
      "\u001b[0;31mNameError\u001b[0m: name 'dane1' is not defined"
     ]
    }
   ],
   "source": [
    "plt.plot(dane1, wyniki1,'ro')"
   ]
  },
  {
   "cell_type": "code",
   "execution_count": null,
   "metadata": {},
   "outputs": [],
   "source": []
  }
 ],
 "metadata": {
  "kernelspec": {
   "display_name": "Python 3",
   "language": "python",
   "name": "python3"
  },
  "language_info": {
   "codemirror_mode": {
    "name": "ipython",
    "version": 3
   },
   "file_extension": ".py",
   "mimetype": "text/x-python",
   "name": "python",
   "nbconvert_exporter": "python",
   "pygments_lexer": "ipython3",
   "version": "3.7.0"
  }
 },
 "nbformat": 4,
 "nbformat_minor": 2
}
