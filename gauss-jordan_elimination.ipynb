{
 "cells": [
  {
   "cell_type": "code",
   "execution_count": 1,
   "metadata": {},
   "outputs": [],
   "source": [
    "def gaussj(a, b, n, m):\n",
    "    \n",
    "    \n",
    "    indxc = []\n",
    "    indxr = []\n",
    "    ipiv = []\n",
    "    \n",
    "    for j in range(n):\n",
    "        ipiv.append(0)\n",
    "        \n",
    "    for i in range(n):\n",
    "        big = 0.0\n",
    "        \n",
    "        #szukanie elementu ,,obracająceg\"\n",
    "        for j in range(n):\n",
    "            if ipiv[j] != 1:\n",
    "                for k in range(n):\n",
    "                    if ipiv[k] == 0:\n",
    "                        if abs(a[j][k]) >= big:\n",
    "                            big=abs(a[j][k])\n",
    "                            irow=j\n",
    "                            icol=k\n",
    "                            \n",
    "                            #print(\"big = \",big,\"irow = \",irow,\"icol = \",icol)\n",
    "                            \n",
    "        ipiv[icol]=ipiv[icol]+1\n",
    "    \n",
    "        #zamiana wierszy\n",
    "        if (irow != icol):\n",
    "            #print(\"zamiana\")\n",
    "            for l in range(n): a[irow][l],a[icol][l] = a[icol][l],a[irow][l]\n",
    "            b[irow],b[icol] = b[icol],b[irow]\n",
    "            \n",
    "        indxr.append(irow);\n",
    "        indxc.append(icol);\n",
    "    \n",
    "    \n",
    "        #print(\"row = \",indxr,\"col = \",indxc);\n",
    "    \n",
    "    \n",
    "        #mnożenie przez element odwrotny\n",
    "        \n",
    "        if (a[icol][icol]) == 0.0: raise ValueError('Singular Matrix')\n",
    "    \n",
    "        pivinv=1.0/a[icol][icol]\n",
    "        a[icol][icol]=1.0\n",
    "    \n",
    "    \n",
    "        for l in range(n): a[icol][l] *= pivinv\n",
    "        b[icol] *= pivinv\n",
    "             \n",
    "            \n",
    "        \n",
    "        for ll in range(n):\n",
    "            if ll != icol:\n",
    "                dum = a[ll][icol]\n",
    "                a[ll][icol]=0.0\n",
    "                \n",
    "                for l in range(n): a[ll][l] -= a[icol][l]*dum\n",
    "                b[ll] -= b[icol]*dum\n",
    "    \n",
    "    for l in reversed(range(n-1)):\n",
    "        if (indxr[l] != indxc[l]):\n",
    "            #print(l)\n",
    "            #print(mat1)\n",
    "            for k in range(n): a[k][indxr[l]],a[k][indxc[l]]=a[k][indxc[l]],a[k][indxr[l]]\n",
    "            \n",
    "    "
   ]
  },
  {
   "cell_type": "code",
   "execution_count": 2,
   "metadata": {},
   "outputs": [],
   "source": [
    "mat1=[[9,9,6],[4,5,-6],[1,3,-5]]\n",
    "mat2=[1,9,5]\n",
    "\n",
    "#mat1=[[1,-3,2],[1,1,-2],[2,-1,1]]\n",
    "#mat2 = [3,1,-1]"
   ]
  },
  {
   "cell_type": "code",
   "execution_count": 3,
   "metadata": {},
   "outputs": [],
   "source": [
    "gaussj(mat1,mat2,3,1)"
   ]
  },
  {
   "cell_type": "code",
   "execution_count": 4,
   "metadata": {},
   "outputs": [
    {
     "data": {
      "text/plain": [
       "[[-0.0666666666666667, 0.6000000000000001, -0.8],\n",
       " [0.13333333333333336, -0.4857142857142859, 0.7428571428571429],\n",
       " [0.06666666666666668, -0.17142857142857143, 0.08571428571428573]]"
      ]
     },
     "execution_count": 4,
     "metadata": {},
     "output_type": "execute_result"
    }
   ],
   "source": [
    "mat1"
   ]
  },
  {
   "cell_type": "code",
   "execution_count": 5,
   "metadata": {},
   "outputs": [
    {
     "data": {
      "text/plain": [
       "[1.3333333333333337, -0.5238095238095242, -1.047619047619048]"
      ]
     },
     "execution_count": 5,
     "metadata": {},
     "output_type": "execute_result"
    }
   ],
   "source": [
    "mat2"
   ]
  },
  {
   "cell_type": "code",
   "execution_count": 6,
   "metadata": {},
   "outputs": [],
   "source": [
    "import timeit\n",
    "import time\n",
    "\n",
    "dane = []\n",
    "wyniki = []\n",
    "\n",
    "\n",
    "import matplotlib.pyplot as plt\n",
    "\n",
    "\n",
    "#setup = \"\"\"\n",
    "import random\n",
    "import numpy as np\n",
    "random.seed\n",
    "\n",
    "for r in range(100):\n",
    "    \n",
    "    size = random.randrange(2, 100, 1)\n",
    "    mat1 = np.random.rand(size,size)\n",
    "    mat2= []\n",
    "    for o in range(size):\n",
    "        liczba = random.randrange(0, 9, 1)\n",
    "        mat2.append(liczba)\n",
    "\n",
    "#\"\"\"\n",
    "    start = time.time()\n",
    "    gaussj(mat1,mat2,size,1)\n",
    "    czas = time.time() - start\n",
    "    dane.append(size)\n",
    "    wyniki.append(czas)\n",
    "#print (min(timeit.Timer(gaussj(mat1,mat2,size,1), setup=setup).repeat(7, 1000)))"
   ]
  },
  {
   "cell_type": "code",
   "execution_count": 40,
   "metadata": {},
   "outputs": [],
   "source": [
    "#print(mat1)"
   ]
  },
  {
   "cell_type": "code",
   "execution_count": 41,
   "metadata": {},
   "outputs": [],
   "source": [
    "#print(mat2)"
   ]
  },
  {
   "cell_type": "code",
   "execution_count": 10,
   "metadata": {},
   "outputs": [
    {
     "data": {
      "image/png": "[encoded data removed]",
      "text/plain": [
       "<Figure size 432x288 with 1 Axes>"
      ]
     },
     "metadata": {
      "needs_background": "light"
     },
     "output_type": "display_data"
    }
   ],
   "source": [
    "#data = [trace]\n",
    "#print(size)\n",
    "#print(czas)\n",
    "\n",
    "line = plt.plot(dane, wyniki,'ro')\n"
   ]
  },
  {
   "cell_type": "code",
   "execution_count": null,
   "metadata": {},
   "outputs": [],
   "source": []
  }
 ],
 "metadata": {
  "kernelspec": {
   "display_name": "Python 3",
   "language": "python",
   "name": "python3"
  },
  "language_info": {
   "codemirror_mode": {
    "name": "ipython",
    "version": 3
   },
   "file_extension": ".py",
   "mimetype": "text/x-python",
   "name": "python",
   "nbconvert_exporter": "python",
   "pygments_lexer": "ipython3",
   "version": "3.7.0"
  }
 },
 "nbformat": 4,
 "nbformat_minor": 2
}
